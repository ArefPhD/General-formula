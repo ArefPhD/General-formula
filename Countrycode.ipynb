{
  "nbformat": 4,
  "nbformat_minor": 0,
  "metadata": {
    "colab": {
      "name": "Untitled120.ipynb",
      "private_outputs": true,
      "provenance": []
    },
    "kernelspec": {
      "name": "python3",
      "display_name": "Python 3"
    },
    "language_info": {
      "name": "python"
    }
  },
  "cells": [
    {
      "cell_type": "code",
      "source": [
        "import pandas as pd\n",
        "import numpy as np"
      ],
      "metadata": {
        "id": "FyZYw0Tdn0A2"
      },
      "execution_count": null,
      "outputs": []
    },
    {
      "cell_type": "code",
      "source": [
        "from google.colab import files\n",
        "\n",
        "uploaded = files.upload()"
      ],
      "metadata": {
        "id": "ZGeZhZeCnwGA"
      },
      "execution_count": null,
      "outputs": []
    },
    {
      "cell_type": "code",
      "source": [
        "country_df = pd.read_csv('count.csv')\n",
        "country_df"
      ],
      "metadata": {
        "id": "lwGFhPS1nswv"
      },
      "execution_count": null,
      "outputs": []
    },
    {
      "cell_type": "code",
      "source": [
        "pip install pycountry\n"
      ],
      "metadata": {
        "id": "Q-sK-wg9nV8G"
      },
      "execution_count": null,
      "outputs": []
    },
    {
      "cell_type": "code",
      "source": [
        "country_df['B'] = (country_df['A'])\n",
        "country_df"
      ],
      "metadata": {
        "id": "mXE9YUDcpIue"
      },
      "execution_count": null,
      "outputs": []
    },
    {
      "cell_type": "code",
      "execution_count": null,
      "metadata": {
        "id": "CS_2XFIunTQO"
      },
      "outputs": [],
      "source": [
        "# Import pycountry, a library for obtaining ISO country codes (alpha_3)\n",
        "import pycountry\n",
        "\n",
        "# Define a function for searching for ISO country codes (alpha_3) based on country names \n",
        "def do_fuzzy_search(country):\n",
        "    try:\n",
        "        # Use search_fuzzy() method to search for the ISO code for the country\n",
        "        result = pycountry.countries.search_fuzzy(country)\n",
        "    except Exception:\n",
        "        # If the search finds no result, return a missing value\n",
        "        return np.nan\n",
        "    else:\n",
        "        # If the search finds a ISO code, return alpha_3\n",
        "        return result[0].alpha_3\n",
        "    \n",
        "# Use list comprehension to create a map from country name (country) to its ISO code (do_fuzzy_search(country))\n",
        "iso_map = {country: do_fuzzy_search(country) for country in country_df[\"A\"].unique()}\n",
        "\n",
        "# Create a column named Country_Code for the ISO code based on the country name in the Country column\n",
        "country_df[\"B\"] = country_df[\"A\"].map(iso_map)\n",
        "\n",
        "# Remove rows without an ISO country code\n",
        "country_df = country_df.loc[~(country_df['B'].isna()),]\n",
        "country_df"
      ]
    }
  ]
}