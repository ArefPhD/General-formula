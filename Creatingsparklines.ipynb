{
  "nbformat": 4,
  "nbformat_minor": 0,
  "metadata": {
    "colab": {
      "name": "Untitled120.ipynb",
      "private_outputs": true,
      "provenance": []
    },
    "kernelspec": {
      "name": "python3",
      "display_name": "Python 3"
    },
    "language_info": {
      "name": "python"
    }
  },
  "cells": [
    {
      "cell_type": "code",
      "source": [
        "import pandas as pd\n",
        "import numpy as np"
      ],
      "metadata": {
        "id": "FyZYw0Tdn0A2"
      },
      "execution_count": null,
      "outputs": []
    },
    {
      "cell_type": "code",
      "source": [
        "from google.colab import files\n",
        "\n",
        "uploaded = files.upload()"
      ],
      "metadata": {
        "id": "ZGeZhZeCnwGA"
      },
      "execution_count": null,
      "outputs": []
    },
    {
      "cell_type": "code",
      "source": [
        "country_df = pd.read_csv('count.csv')\n",
        "country_df"
      ],
      "metadata": {
        "id": "lwGFhPS1nswv"
      },
      "execution_count": null,
      "outputs": []
    },
    {
      "cell_type": "code",
      "source": [
        "pip install pycountry\n"
      ],
      "metadata": {
        "id": "Q-sK-wg9nV8G"
      },
      "execution_count": null,
      "outputs": []
    },
    {
      "cell_type": "code",
      "source": [
        "country_df['B'] = (country_df['A'])\n",
        "country_df"
      ],
      "metadata": {
        "id": "mXE9YUDcpIue"
      },
      "execution_count": null,
      "outputs": []
    },
    {
      "cell_type": "code",
      "execution_count": null,
      "metadata": {
        "id": "CS_2XFIunTQO"
      },
      "outputs": [],
      "source": [
        "# Import pycountry, a library for obtaining ISO country codes (alpha_3)\n",
        "import pycountry\n",
        "\n",
        "# Define a function for searching for ISO country codes (alpha_3) based on country names \n",
        "def do_fuzzy_search(country):\n",
        "    try:\n",
        "        # Use search_fuzzy() method to search for the ISO code for the country\n",
        "        result = pycountry.countries.search_fuzzy(country)\n",
        "    except Exception:\n",
        "        # If the search finds no result, return a missing value\n",
        "        return np.nan\n",
        "    else:\n",
        "        # If the search finds a ISO code, return alpha_3\n",
        "        return result[0].alpha_3\n",
        "    \n",
        "# Use list comprehension to create a map from country name (country) to its ISO code (do_fuzzy_search(country))\n",
        "iso_map = {country: do_fuzzy_search(country) for country in country_df[\"A\"].unique()}\n",
        "\n",
        "# Create a column named Country_Code for the ISO code based on the country name in the Country column\n",
        "country_df[\"B\"] = country_df[\"A\"].map(iso_map)\n",
        "\n",
        "# Remove rows without an ISO country code\n",
        "country_df = country_df.loc[~(country_df['B'].isna()),]\n",
        "country_df"
      ]
    },
    {
      "cell_type": "code",
      "source": [
        "from google.colab import files\n",
        "\n",
        "uploaded = files.upload()"
      ],
      "metadata": {
        "id": "HNAYL1t7rUf5"
      },
      "execution_count": null,
      "outputs": []
    },
    {
      "cell_type": "code",
      "source": [
        "car_df = pd.read_csv('Car_sales.csv')\n",
        "car_df"
      ],
      "metadata": {
        "id": "xntFCydUrYrC"
      },
      "execution_count": null,
      "outputs": []
    },
    {
      "cell_type": "markdown",
      "source": [
        "# BAR CHARTS\n"
      ],
      "metadata": {
        "id": "NQYgf7g8q00A"
      }
    },
    {
      "cell_type": "code",
      "source": [
        "import seaborn as sns\n",
        "import matplotlib.pyplot as plt\n",
        "\n",
        "# Set the size of the plot\n",
        "plt.figure(figsize=(16,8))\n",
        "\n",
        "# Create a column chart to compare startup valuations across industries in China\n",
        "\n",
        "ax = sns.barplot(x='Manufacturer', y='Sales_in_thousands', data=car_df)\n",
        "\n",
        "# Add a label to indicate the value of each bar \n",
        "ax.bar_label(ax.containers[0])\n",
        "\n",
        "# Rotate the labels on the x-axis so they won't overlap\n",
        "plt.xticks(rotation=45)\n",
        "\n",
        "# Show the column chart\n",
        "plt.show()"
      ],
      "metadata": {
        "id": "Mg2LjovJq0SN"
      },
      "execution_count": null,
      "outputs": []
    },
    {
      "cell_type": "code",
      "source": [
        "car_var = car_df\n",
        "\n",
        "car_var = pd.DataFrame()\n",
        "\n",
        "car_var['Sales'] = car_df['Sales_in_thousands'].astype(float)\n",
        "\n",
        "car_var[['Price','Engine_size','Horsepower','Wheelbase','Width','Length','Curb_weight','Fuel_capacity','Fuel_efficiency',]] = car_df[['Price_in_thousands',\n",
        "       'Engine_size','Horsepower','Wheelbase','Width','Length','Curb_weight','Fuel_capacity','Fuel_efficiency']].astype(float)\n",
        "car_var"
      ],
      "metadata": {
        "id": "PaMyOa0jsBeK"
      },
      "execution_count": null,
      "outputs": []
    },
    {
      "cell_type": "code",
      "source": [
        "plt.figure(figsize = (30, 25))\n",
        "sns.heatmap(car_var.corr(), annot = True, cmap=\"YlGnBu\")\n",
        "plt.show()"
      ],
      "metadata": {
        "id": "51yDAKnfr8k5"
      },
      "execution_count": null,
      "outputs": []
    },
    {
      "cell_type": "code",
      "source": [
        "pd.set_option('display.max_colwidth', None)\n",
        " \n",
        "# Turning off the max column will display all the data\n",
        "# if gathering into sets / array we might want to restrict to a few items\n",
        "pd.set_option('display.max_seq_items', 3)\n",
        "\n",
        "# Define a function for creating sparklines\n",
        "def sparkline(data, figsize=(4, 0.25), **kwargs):\n",
        "    \"\"\"\n",
        "    creates a sparkline\n",
        "    \"\"\"\n",
        "    from matplotlib import pyplot as plt\n",
        "    import base64\n",
        "    from io import BytesIO\n",
        "\n",
        "    data = list(data)\n",
        "\n",
        "    *_, ax = plt.subplots(1, 1, figsize=figsize, **kwargs)\n",
        "    ax.plot(data)\n",
        "    ax.fill_between(range(len(data)), data, len(data)*[min(data)], alpha=0.1)\n",
        "    ax.set_axis_off()\n",
        "\n",
        "    img = BytesIO()\n",
        "    plt.savefig(img)\n",
        "    plt.close()\n",
        "    return '<img src=\"data:image/png;base64, {}\" />'.format(base64.b64encode(img.getvalue()).decode())"
      ],
      "metadata": {
        "id": "XaCNqEVost1N"
      },
      "execution_count": null,
      "outputs": []
    },
    {
      "cell_type": "code",
      "source": [
        "car_df['Sales_Timestamp'] = pd.to_datetime(car_df['Latest_Launch'], format='%m/%d/%Y')\n",
        "car_df"
      ],
      "metadata": {
        "id": "mBxhSgWJs5Cz"
      },
      "execution_count": null,
      "outputs": []
    },
    {
      "cell_type": "code",
      "source": [
        "# Create a pivot table to tabulate the change of startup valuations overtime for each industry\n",
        "sparkline_crosstab = pd.pivot_table(car_df, values='Sales_in_thousands', index=['Manufacturer'], columns=['Sales_Timestamp'], aggfunc=np.sum, fill_value=0)\n",
        "sparkline_crosstab"
      ],
      "metadata": {
        "id": "GnuGopQEswqg"
      },
      "execution_count": null,
      "outputs": []
    },
    {
      "cell_type": "code",
      "source": [
        "from IPython.display import HTML\n",
        "\n",
        "sparkline_crosstab['Sparkline'] = sparkline_crosstab.apply(sparkline, axis=1)\n",
        "\n",
        "HTML(sparkline_crosstab[['Sparkline']].iloc[:20].to_html(escape=False))"
      ],
      "metadata": {
        "id": "rP9okHmBsyvH"
      },
      "execution_count": null,
      "outputs": []
    }
  ]
}